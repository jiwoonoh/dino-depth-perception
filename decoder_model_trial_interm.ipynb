{
 "cells": [
  {
   "cell_type": "code",
   "execution_count": 20,
   "metadata": {},
   "outputs": [],
   "source": [
    "from dataset import DictDataset\n",
    "from model import *\n",
    "from torch.utils.data import DataLoader\n",
    "import torch.optim as optim\n",
    "import torch.nn as nn\n",
    "from importlib import reload\n",
    "from tqdm import tqdm\n",
    "from torch.optim.lr_scheduler import CosineAnnealingLR\n",
    "import wandb\n",
    "import torch\n",
    "import os"
   ]
  },
  {
   "cell_type": "code",
   "execution_count": 19,
   "metadata": {},
   "outputs": [
    {
     "name": "stdout",
     "output_type": "stream",
     "text": [
      "torch.Size([384, 14, 14])\n"
     ]
    }
   ],
   "source": [
    "dataset_old = DictDataset('data')\n",
    "print(dataset_old[0]['image_t']['feature_embedding'].shape)"
   ]
  },
  {
   "cell_type": "code",
   "execution_count": 14,
   "metadata": {},
   "outputs": [
    {
     "name": "stdout",
     "output_type": "stream",
     "text": [
      "13\n",
      "torch.Size([197, 384])\n",
      "torch.Size([197, 384])\n",
      "torch.Size([197, 384])\n",
      "torch.Size([197, 384])\n",
      "torch.Size([197, 384])\n",
      "torch.Size([197, 384])\n",
      "torch.Size([197, 384])\n",
      "torch.Size([197, 384])\n",
      "torch.Size([197, 384])\n",
      "torch.Size([197, 384])\n",
      "torch.Size([197, 384])\n",
      "torch.Size([197, 384])\n",
      "torch.Size([197, 384])\n"
     ]
    }
   ],
   "source": [
    "print(len(sample['image_t']['all_layer_embeddings']))\n",
    "for embed_stage in sample['image_t']['all_layer_embeddings']:\n",
    "    print(embed_stage.shape)\n"
   ]
  },
  {
   "cell_type": "code",
   "execution_count": 13,
   "metadata": {},
   "outputs": [],
   "source": [
    "dataset = DictDataset('./data_intermediate')\n",
    "\n",
    "from torch.utils.data import DataLoader\n",
    "\n",
    "dataloader = DataLoader(dataset, batch_size=2, shuffle=True)\n",
    "# sample = dataloader.__iter__().__next__()\n",
    "sample = dataset[0]"
   ]
  }
 ],
 "metadata": {
  "kernelspec": {
   "display_name": "Python 3.9.6 64-bit",
   "language": "python",
   "name": "python3"
  },
  "language_info": {
   "codemirror_mode": {
    "name": "ipython",
    "version": 3
   },
   "file_extension": ".py",
   "mimetype": "text/x-python",
   "name": "python",
   "nbconvert_exporter": "python",
   "pygments_lexer": "ipython3",
   "version": "3.9.6"
  },
  "orig_nbformat": 4,
  "vscode": {
   "interpreter": {
    "hash": "31f2aee4e71d21fbe5cf8b01ff0e069b9275f58929596ceb00d14d90e3e16cd6"
   }
  }
 },
 "nbformat": 4,
 "nbformat_minor": 2
}
