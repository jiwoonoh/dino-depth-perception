{
 "cells": [
  {
   "cell_type": "code",
   "execution_count": 1,
   "metadata": {},
   "outputs": [],
   "source": [
    "from dataset import DictDataset, RepeatedDictDataset\n",
    "from model import *\n",
    "from torch.utils.data import DataLoader\n",
    "import torch.optim as optim\n",
    "import torch.nn as nn\n",
    "from importlib import reload\n",
    "from tqdm import tqdm\n",
    "from torch.optim.lr_scheduler import CosineAnnealingLR\n",
    "import wandb\n",
    "import torch\n",
    "import os\n",
    "from loss_functions import *\n",
    "from inverse_warp import inverse_warp\n",
    "from utils import projective_inverse_warp\n"
   ]
  },
  {
   "cell_type": "code",
   "execution_count": 2,
   "metadata": {},
   "outputs": [],
   "source": [
    "from torch.utils.data import DataLoader\n",
    "\n",
    "# dataloader = DataLoader(dataset, batch_size=2, shuffle=True)\n",
    "# sample = dataloader.__iter__().__next__()\n",
    "# bigmodel = BigModel()\n",
    "# pose_final, depth_map = bigmodel(sample)"
   ]
  },
  {
   "cell_type": "code",
   "execution_count": 3,
   "metadata": {},
   "outputs": [],
   "source": [
    "repeatdataset = RepeatedDictDataset('./data/folder_0_pair_0.pt', 100)"
   ]
  },
  {
   "cell_type": "code",
   "execution_count": 4,
   "metadata": {},
   "outputs": [],
   "source": [
    "import os\n",
    "from tqdm import tqdm\n",
    "import torch\n",
    "from torch.utils.data import DataLoader\n",
    "import torch.optim as optim\n",
    "import torch.nn.functional as F\n",
    "\n",
    "\n",
    "def train_model(bigmodel, \n",
    "                train_dataset, \n",
    "                val_dataset, \n",
    "                num_epochs=10, \n",
    "                batch_size=2,\n",
    "                lr=1e-3,\n",
    "                device='cpu',\n",
    "                optimizer_cls=optim.Adam,\n",
    "                patience=3,\n",
    "                log_interval=10,\n",
    "                save_dir=\"models\",  # Directory to save the model\n",
    "                save_name=\"best_model.pth\"  # Model name to save\n",
    "                ):\n",
    "    \"\"\"\n",
    "    Train a model with photometric and smooth loss for depth estimation.\n",
    "    \"\"\"\n",
    "    # Camera intrinsics\n",
    "    intrinsics_flat = [9.569475e+02, 0.000000e+00, 6.939767e+02,\n",
    "                       0.000000e+00, 9.522352e+02, 2.386081e+02,\n",
    "                       0.000000e+00, 0.000000e+00, 1.000000e+00]\n",
    "\n",
    "    # Move the model to the device\n",
    "    bigmodel.to(device)\n",
    "\n",
    "    # Set up data loaders\n",
    "    train_loader = DataLoader(train_dataset, batch_size=batch_size, shuffle=True)\n",
    "    val_loader = DataLoader(val_dataset, batch_size=batch_size, shuffle=False)\n",
    "    optimizer = optimizer_cls(bigmodel.parameters(), lr=lr)\n",
    "\n",
    "    best_val_loss = float('inf')\n",
    "    patience_counter = 0\n",
    "\n",
    "    # Ensure the save directory exists\n",
    "    os.makedirs(save_dir, exist_ok=True)\n",
    "    save_path = os.path.join(save_dir, save_name)\n",
    "\n",
    "    # Training loop\n",
    "    for epoch in range(num_epochs):\n",
    "        bigmodel.train()\n",
    "        train_loss = 0.0\n",
    "\n",
    "        # Use tqdm for progress tracking\n",
    "        progress_bar = tqdm(train_loader, desc=f\"Epoch {epoch+1}/{num_epochs}\")\n",
    "        for i, sample in enumerate(progress_bar):\n",
    "            # Zero the gradients\n",
    "            optimizer.zero_grad()\n",
    "\n",
    "            # Prepare inputs\n",
    "            B = sample['image_t1']['processed_image'].shape[0]  # Batch size\n",
    "            intrinsics_matrix = torch.tensor(intrinsics_flat).view(1, 3, 3).repeat(B, 1, 1).to(device)\n",
    "\n",
    "            tgt_image = sample['image_t1']['processed_image'].to(device)  # Target image [B, 3, H, W]\n",
    "            ref_image = sample['image_t']['processed_image'].to(device)  # Reference image [B, 3, H, W]\n",
    "\n",
    "            # Forward pass\n",
    "            pose, depth_map = bigmodel(sample)\n",
    "\n",
    "            # Ensure depth_map is [B, H, W]\n",
    "            if depth_map.dim() == 4:  # [B, 1, H, W]\n",
    "                depth_map = depth_map.squeeze(1)  # Remove channel dimension\n",
    "\n",
    "            # Photometric reconstruction loss\n",
    "            photometric_loss = photometric_reconstruction_loss(\n",
    "                tgt_img=tgt_image,\n",
    "                ref_img=ref_image,\n",
    "                intrinsics=intrinsics_matrix,\n",
    "                depth=depth_map,\n",
    "                pose=pose\n",
    "            )\n",
    "\n",
    "            # Smooth loss\n",
    "            smoothness_loss = smooth_loss(depth_map.unsqueeze(1))  # Add back channel dimension\n",
    "\n",
    "            # Total loss\n",
    "            loss = photometric_loss + 0.01 * smoothness_loss\n",
    "\n",
    "            # Backward pass and optimizer step\n",
    "            loss.backward()\n",
    "            optimizer.step()\n",
    "\n",
    "            # Accumulate train loss\n",
    "            train_loss += loss.item()\n",
    "\n",
    "            if i % log_interval == 0:\n",
    "                avg_loss = train_loss / (i + 1)\n",
    "                progress_bar.set_postfix(loss=avg_loss)\n",
    "\n",
    "        # Validation loop (optional, uncomment if needed)\n",
    "        # bigmodel.eval()\n",
    "        # val_loss = 0.0\n",
    "        # with torch.no_grad():\n",
    "        #     for sample in val_loader:\n",
    "        #         tgt_image = sample['image_t1']['processed_image'].to(device)\n",
    "        #         ref_image = sample['image_t']['processed_image'].to(device)\n",
    "        #         pose, depth_map = bigmodel(sample)\n",
    "        #         depth_map = depth_map.squeeze(1) if depth_map.dim() == 4 else depth_map\n",
    "        #         photometric_loss = photometric_reconstruction_loss(\n",
    "        #             tgt_img=tgt_image,\n",
    "        #             ref_img=ref_image,\n",
    "        #             intrinsics=intrinsics_matrix,\n",
    "        #             depth=depth_map,\n",
    "        #             pose=pose\n",
    "        #         )\n",
    "        #         smoothness_loss = smooth_loss(depth_map.unsqueeze(1))\n",
    "        #         val_loss += (photometric_loss + 0.01 * smoothness_loss).item()\n",
    "        #\n",
    "        # val_loss /= len(val_loader)\n",
    "        # if val_loss < best_val_loss:\n",
    "        #     best_val_loss = val_loss\n",
    "        #     patience_counter = 0\n",
    "        #     torch.save(bigmodel.state_dict(), save_path)\n",
    "        # else:\n",
    "        #     patience_counter += 1\n",
    "\n",
    "        # if patience_counter >= patience:\n",
    "        #     print(\"Early stopping triggered!\")\n",
    "        #     break"
   ]
  },
  {
   "cell_type": "code",
   "execution_count": 5,
   "metadata": {},
   "outputs": [
    {
     "name": "stderr",
     "output_type": "stream",
     "text": [
<<<<<<< HEAD
      "Epoch 1/10:   0%|          | 0/50 [00:00<?, ?it/s]/Users/esther/Downloads/dino-depth-perception/dataset.py:46: FutureWarning: You are using `torch.load` with `weights_only=False` (the current default value), which uses the default pickle module implicitly. It is possible to construct malicious pickle data which will execute arbitrary code during unpickling (See https://github.com/pytorch/pytorch/blob/main/SECURITY.md#untrusted-models for more details). In a future release, the default value for `weights_only` will be flipped to `True`. This limits the functions that could be executed during unpickling. Arbitrary objects will no longer be allowed to be loaded via this mode unless they are explicitly allowlisted by the user via `torch.serialization.add_safe_globals`. We recommend you start setting `weights_only=True` for any use case where you don't have full control of the loaded file. Please open an issue on GitHub for any issues related to this experimental feature.\n",
      "  data = torch.load(self.file_path)\n",
      "Epoch 1/10: 100%|██████████| 50/50 [00:08<00:00,  5.95it/s, loss=5e-6]   \n",
      "Epoch 2/10: 100%|██████████| 50/50 [00:08<00:00,  6.15it/s, loss=5.19e-7]\n",
      "Epoch 3/10: 100%|██████████| 50/50 [00:11<00:00,  4.23it/s, loss=2.63e-7]\n",
      "Epoch 4/10: 100%|██████████| 50/50 [00:10<00:00,  4.61it/s, loss=1.92e-7]\n",
      "Epoch 5/10: 100%|██████████| 50/50 [00:09<00:00,  5.15it/s, loss=1e-7]   \n",
      "Epoch 6/10: 100%|██████████| 50/50 [00:08<00:00,  5.58it/s, loss=7.04e-8]\n",
      "Epoch 7/10: 100%|██████████| 50/50 [00:07<00:00,  6.67it/s, loss=5.4e-8] \n",
      "Epoch 8/10: 100%|██████████| 50/50 [00:08<00:00,  5.80it/s, loss=4.02e-8]\n",
      "Epoch 9/10: 100%|██████████| 50/50 [00:08<00:00,  5.74it/s, loss=3.29e-8]\n",
      "Epoch 10/10: 100%|██████████| 50/50 [00:08<00:00,  6.08it/s, loss=2.88e-8]\n"
=======
      "Epoch 1/1:  10%|█         | 5/50 [00:00<00:01, 24.97it/s, loss=0.00165]"
     ]
    },
    {
     "name": "stdout",
     "output_type": "stream",
     "text": [
      "0.0016510332934558392\n"
     ]
    },
    {
     "name": "stderr",
     "output_type": "stream",
     "text": [
      "Epoch 1/1:  32%|███▏      | 16/50 [00:00<00:01, 29.89it/s, loss=0.00153]"
     ]
    },
    {
     "name": "stdout",
     "output_type": "stream",
     "text": [
      "0.001525500768118284\n"
     ]
    },
    {
     "name": "stderr",
     "output_type": "stream",
     "text": [
      "Epoch 1/1:  48%|████▊     | 24/50 [00:00<00:00, 30.68it/s, loss=0.00105]"
     ]
    },
    {
     "name": "stdout",
     "output_type": "stream",
     "text": [
      "0.0010483377887534776\n"
     ]
    },
    {
     "name": "stderr",
     "output_type": "stream",
     "text": [
      "Epoch 1/1:  68%|██████▊   | 34/50 [00:01<00:00, 25.65it/s, loss=0.000808]"
     ]
    },
    {
     "name": "stdout",
     "output_type": "stream",
     "text": [
      "0.0008081146562847519\n"
     ]
    },
    {
     "name": "stderr",
     "output_type": "stream",
     "text": [
      "Epoch 1/1:  94%|█████████▍| 47/50 [00:01<00:00, 27.87it/s, loss=0.000652]"
     ]
    },
    {
     "name": "stdout",
     "output_type": "stream",
     "text": [
      "0.0006515655582117644\n"
     ]
    },
    {
     "name": "stderr",
     "output_type": "stream",
     "text": [
      "Epoch 1/1: 100%|██████████| 50/50 [00:01<00:00, 27.77it/s, loss=0.000652]\n"
>>>>>>> c6658f87b23c71863ec48ad6aac98a9e300d7c47
     ]
    }
   ],
   "source": [
    "big = BigModel()\n",
    "train_model(bigmodel = big,\n",
    "            train_dataset = repeatdataset,\n",
    "            val_dataset = repeatdataset)"
   ]
<<<<<<< HEAD
=======
  },
  {
   "cell_type": "code",
   "execution_count": 6,
   "metadata": {},
   "outputs": [
    {
     "ename": "NameError",
     "evalue": "name 'image_t' is not defined",
     "output_type": "error",
     "traceback": [
      "\u001b[0;31m---------------------------------------------------------------------------\u001b[0m",
      "\u001b[0;31mNameError\u001b[0m                                 Traceback (most recent call last)",
      "Cell \u001b[0;32mIn[6], line 7\u001b[0m\n\u001b[1;32m      1\u001b[0m intrinsics_flat \u001b[38;5;241m=\u001b[39m [\u001b[38;5;241m9.569475e+02\u001b[39m, \u001b[38;5;241m0.000000e+00\u001b[39m, \u001b[38;5;241m6.939767e+02\u001b[39m,\n\u001b[1;32m      2\u001b[0m                    \u001b[38;5;241m0.000000e+00\u001b[39m, \u001b[38;5;241m9.522352e+02\u001b[39m, \u001b[38;5;241m2.386081e+02\u001b[39m,\n\u001b[1;32m      3\u001b[0m                    \u001b[38;5;241m0.000000e+00\u001b[39m, \u001b[38;5;241m0.000000e+00\u001b[39m, \u001b[38;5;241m1.000000e+00\u001b[39m]\n\u001b[1;32m      4\u001b[0m \u001b[38;5;66;03m# pose_final = pose_final.unsqueeze(1)\u001b[39;00m\n\u001b[1;32m      5\u001b[0m \u001b[38;5;66;03m# #print(f\"pose_final shape: {pose_final.shape}\")  # Should be [B, 1, 6]\u001b[39;00m\n\u001b[1;32m      6\u001b[0m \u001b[38;5;66;03m# # Convert to a 3x3 matrix\u001b[39;00m\n\u001b[0;32m----> 7\u001b[0m B \u001b[38;5;241m=\u001b[39m image_t\u001b[38;5;241m.\u001b[39mshape[\u001b[38;5;241m0\u001b[39m]  \u001b[38;5;66;03m# Example to get batch size\u001b[39;00m\n\u001b[1;32m      8\u001b[0m intrinsics_matrix \u001b[38;5;241m=\u001b[39m torch\u001b[38;5;241m.\u001b[39mtensor(intrinsics_flat)\u001b[38;5;241m.\u001b[39mview(\u001b[38;5;241m1\u001b[39m, \u001b[38;5;241m3\u001b[39m, \u001b[38;5;241m3\u001b[39m)\u001b[38;5;241m.\u001b[39mrepeat(B, \u001b[38;5;241m1\u001b[39m, \u001b[38;5;241m1\u001b[39m)\n",
      "\u001b[0;31mNameError\u001b[0m: name 'image_t' is not defined"
     ]
    }
   ],
   "source": [
    "intrinsics_flat = [9.569475e+02, 0.000000e+00, 6.939767e+02,\n",
    "                   0.000000e+00, 9.522352e+02, 2.386081e+02,\n",
    "                   0.000000e+00, 0.000000e+00, 1.000000e+00]\n",
    "# pose_final = pose_final.unsqueeze(1)\n",
    "# #print(f\"pose_final shape: {pose_final.shape}\")  # Should be [B, 1, 6]\n",
    "# # Convert to a 3x3 matrix\n",
    "B = image_t.shape[0]  # Example to get batch size\n",
    "intrinsics_matrix = torch.tensor(intrinsics_flat).view(1, 3, 3).repeat(B, 1, 1)  # Shape: [B, 3, 3]\n",
    "# compute_loss(pred_depth=depth_map, pred_poses=pose_final, tgt_image=image_t1, src_image_stack=image_t,intrinsics=intrinsics_matrix)"
   ]
>>>>>>> c6658f87b23c71863ec48ad6aac98a9e300d7c47
  }
 ],
 "metadata": {
  "kernelspec": {
   "display_name": "base",
   "language": "python",
   "name": "python3"
  },
  "language_info": {
   "codemirror_mode": {
    "name": "ipython",
    "version": 3
   },
   "file_extension": ".py",
   "mimetype": "text/x-python",
   "name": "python",
   "nbconvert_exporter": "python",
   "pygments_lexer": "ipython3",
   "version": "3.11.4"
  },
  "orig_nbformat": 4
 },
 "nbformat": 4,
 "nbformat_minor": 2
}
