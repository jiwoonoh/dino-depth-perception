{
 "cells": [
  {
   "cell_type": "code",
   "execution_count": null,
   "metadata": {},
   "outputs": [],
   "source": []
  },
  {
   "cell_type": "code",
   "execution_count": null,
   "metadata": {},
   "outputs": [],
   "source": []
  },
  {
   "cell_type": "code",
   "execution_count": 13,
   "metadata": {},
   "outputs": [
    {
     "ename": "NameError",
     "evalue": "name 'train_model' is not defined",
     "output_type": "error",
     "traceback": [
      "\u001b[0;31m---------------------------------------------------------------------------\u001b[0m",
      "\u001b[0;31mNameError\u001b[0m                                 Traceback (most recent call last)",
      "Cell \u001b[0;32mIn[13], line 2\u001b[0m\n\u001b[1;32m      1\u001b[0m big \u001b[38;5;241m=\u001b[39m BigModel()\n\u001b[0;32m----> 2\u001b[0m \u001b[43mtrain_model\u001b[49m(bigmodel \u001b[38;5;241m=\u001b[39m big,\n\u001b[1;32m      3\u001b[0m             train_dataset \u001b[38;5;241m=\u001b[39m repeatdataset,\n\u001b[1;32m      4\u001b[0m             val_dataset \u001b[38;5;241m=\u001b[39m repeatdataset)\n",
      "\u001b[0;31mNameError\u001b[0m: name 'train_model' is not defined"
     ]
    }
   ],
   "source": [
    "big = BigModel()\n",
    "train_model(bigmodel = big,\n",
    "            train_dataset = repeatdataset,\n",
    "            val_dataset = repeatdataset)"
   ]
  },
  {
   "cell_type": "code",
   "execution_count": 8,
   "metadata": {},
   "outputs": [
    {
     "name": "stderr",
     "output_type": "stream",
     "text": [
      "/Users/jiwoo_noh/Library/Python/3.9/lib/python/site-packages/tqdm/auto.py:21: TqdmWarning: IProgress not found. Please update jupyter and ipywidgets. See https://ipywidgets.readthedocs.io/en/stable/user_install.html\n",
      "  from .autonotebook import tqdm as notebook_tqdm\n"
     ]
    }
   ],
   "source": [
    "from dataset import DictDataset, RepeatedDictDataset\n",
    "from model import *\n",
    "from torch.utils.data import DataLoader\n",
    "import torch.optim as optim\n",
    "import torch.nn as nn\n",
    "from importlib import reload\n",
    "from tqdm import tqdm\n",
    "from torch.optim.lr_scheduler import CosineAnnealingLR\n",
    "import wandb\n",
    "import torch\n",
    "import os\n",
    "from utils import *"
   ]
  },
  {
   "cell_type": "code",
   "execution_count": null,
   "metadata": {},
   "outputs": [],
   "source": [
    "repeatdataset = RepeatedDictDataset('./data/folder_0_pair_0.pt', 100)"
   ]
  },
  {
   "cell_type": "code",
   "execution_count": null,
   "metadata": {},
   "outputs": [],
   "source": [
    "dataset = DictDataset('./data')\n",
    "\n",
    "from torch.utils.data import DataLoader\n",
    "\n",
    "dataloader = DataLoader(dataset, batch_size=2, shuffle=True)\n",
    "sample = dataloader.__iter__().__next__()\n",
    "bigmodel = BigModel()\n",
    "pose_final, depth_map = bigmodel(sample)"
   ]
  },
  {
   "cell_type": "code",
   "execution_count": 11,
   "metadata": {},
   "outputs": [
    {
     "ename": "NameError",
     "evalue": "name 'B' is not defined",
     "output_type": "error",
     "traceback": [
      "\u001b[0;31m---------------------------------------------------------------------------\u001b[0m",
      "\u001b[0;31mNameError\u001b[0m                                 Traceback (most recent call last)",
      "Cell \u001b[0;32mIn[11], line 8\u001b[0m\n\u001b[1;32m      1\u001b[0m intrinsics_flat \u001b[38;5;241m=\u001b[39m [\u001b[38;5;241m9.569475e+02\u001b[39m, \u001b[38;5;241m0.000000e+00\u001b[39m, \u001b[38;5;241m6.939767e+02\u001b[39m,\n\u001b[1;32m      2\u001b[0m                    \u001b[38;5;241m0.000000e+00\u001b[39m, \u001b[38;5;241m9.522352e+02\u001b[39m, \u001b[38;5;241m2.386081e+02\u001b[39m,\n\u001b[1;32m      3\u001b[0m                    \u001b[38;5;241m0.000000e+00\u001b[39m, \u001b[38;5;241m0.000000e+00\u001b[39m, \u001b[38;5;241m1.000000e+00\u001b[39m]\n\u001b[1;32m      4\u001b[0m \u001b[38;5;66;03m# pose_final = pose_final.unsqueeze(1)\u001b[39;00m\n\u001b[1;32m      5\u001b[0m \u001b[38;5;66;03m# #print(f\"pose_final shape: {pose_final.shape}\")  # Should be [B, 1, 6]\u001b[39;00m\n\u001b[1;32m      6\u001b[0m \u001b[38;5;66;03m# # Convert to a 3x3 matrix\u001b[39;00m\n\u001b[1;32m      7\u001b[0m \u001b[38;5;66;03m# B = image_t.shape[0]  # Example to get batch size\u001b[39;00m\n\u001b[0;32m----> 8\u001b[0m intrinsics_matrix \u001b[38;5;241m=\u001b[39m torch\u001b[38;5;241m.\u001b[39mtensor(intrinsics_flat)\u001b[38;5;241m.\u001b[39mview(\u001b[38;5;241m1\u001b[39m, \u001b[38;5;241m3\u001b[39m, \u001b[38;5;241m3\u001b[39m)\u001b[38;5;241m.\u001b[39mrepeat(\u001b[43mB\u001b[49m, \u001b[38;5;241m1\u001b[39m, \u001b[38;5;241m1\u001b[39m)  \u001b[38;5;66;03m# Shape: [B, 3, 3]\u001b[39;00m\n\u001b[1;32m      9\u001b[0m \u001b[38;5;66;03m# compute_loss(pred_depth=depth_map, pred_poses=pose_final, tgt_image=image_t1, src_image_stack=image_t,intrinsics=intrinsics_matrix)\u001b[39;00m\n",
      "\u001b[0;31mNameError\u001b[0m: name 'B' is not defined"
     ]
    }
   ],
   "source": [
    "intrinsics_flat = [9.569475e+02, 0.000000e+00, 6.939767e+02,\n",
    "                   0.000000e+00, 9.522352e+02, 2.386081e+02,\n",
    "                   0.000000e+00, 0.000000e+00, 1.000000e+00]\n",
    "# pose_final = pose_final.unsqueeze(1)\n",
    "# #print(f\"pose_final shape: {pose_final.shape}\")  # Should be [B, 1, 6]\n",
    "# # Convert to a 3x3 matrix\n",
    "B = image_t.shape[0]  # Example to get batch size\n",
    "intrinsics_matrix = torch.tensor(intrinsics_flat).view(1, 3, 3).repeat(B, 1, 1)  # Shape: [B, 3, 3]\n",
    "# compute_loss(pred_depth=depth_map, pred_poses=pose_final, tgt_image=image_t1, src_image_stack=image_t,intrinsics=intrinsics_matrix)"
   ]
  },
  {
   "cell_type": "code",
   "execution_count": 16,
   "metadata": {},
   "outputs": [
    {
     "ename": "SyntaxError",
     "evalue": "invalid syntax (2866394341.py, line 10)",
     "output_type": "error",
     "traceback": [
      "\u001b[0;36m  Cell \u001b[0;32mIn[16], line 10\u001b[0;36m\u001b[0m\n\u001b[0;31m    patience = 3,\u001b[0m\n\u001b[0m    ^\u001b[0m\n\u001b[0;31mSyntaxError\u001b[0m\u001b[0;31m:\u001b[0m invalid syntax\n"
     ]
    }
   ],
   "source": [
    "def train_model(bigmodel, \n",
    "                train_dataset, \n",
    "                val_dataset, \n",
    "                num_epochs = 10, \n",
    "                batch_size = 3,\n",
    "                lr = 1e-3,\n",
    "                device = 'cpu',\n",
    "                optimizer = optim.Adam,\n",
    "                criterion = compute_loss(),\n",
    "    \n",
    "                            patience = 3,\n",
    "                log_in\n",
    "                patience = 3,terval = 10,\n",
    "                wandb_project = 'depth-estimation',\n",
    "                wanbd_run_name = 'default',\n",
    "                save_dir=\"models\",  # Directory to save the model\n",
    "                save_name=\"best_model.pth\"  # Model name to save\n",
    "                ):\n",
    "    \n",
    "    # Initializ# e wandb\n",
    "    wandb.init(project = wandb_project, name = wandb_run_name, c# onfig={\n",
    "        \"epochs\": num_# epochs,\n",
    "        \"batch_size\": batc# h_size,\n",
    "        \"learning_rat# e\": lr,\n",
    "        \"device\": # device,\n",
    "        \"optimizer\": optimizer.__# name__,\n",
    "        \"loss_function\": criterion.__class__.__# name__,\n",
    "        \"early_stopping_patienc}\"    # )\n",
    "    \n",
    "    intrinsics_flat = [9.569475e+02, 0.000000e+00, 6.939767e+02,\n",
    "                   0.000000e+00, 9.522352e+02, 2.386081e+02,\n",
    "                   0.000000e+00, 0.000000e+00, 1.000000e+00]ence,\n",
    "    })\n",
    "    \n",
    "    bigmodel.to(device)\n",
    "    \n",
    "    train_loader = DataLoader(train_dataset, bach_size, shuffle=True)\n",
    "    val_loader = DataLoader(val_dataset, batch_size=batch_size, shuffle=False)\n",
    "    optimizer = optimizer(bigmodel.parameters(), lr=lr)\n",
    "    \n",
    "    best_val_loss = float('inf')\n",
    "    patience_counter = 0\n",
    "    \n",
    "    # Ensure the save directory exists\n",
    "    os.makedirs(save_dir, exist_ok=True)\n",
    "    save_path = os.path.join(save_dir, save_name)\n",
    "    \n",
    "    # Training loop\n",
    "    for epoch in range(num_epochs):\n",
    "        bigmodel.train()\n",
    "        train_loss = 0.0\n",
    "\n",
    "        # Use tqdm for progress tracking\n",
    "        progress_bar = tqdm(train_loader, desc=f\"Epoch {epoch+1}/{num_epochs}\")\n",
    "        for i, sample in enumerate(progress_bar):\n",
    "            # Zero the gradients\n",
    "            optimizer.zero_grad()\n",
    "            B = sample['image_t1']['processed_image'].shape[0]  # Example to get batch size\n",
    "            intrinsics_matrix = torch.tensor(intrinsics_flat).view(1, 3, 3).repeat(B, 1, 1)\n",
    "\n",
    "            # Forward pass\n",
    "            pose, depth_map = bigmodel(sample)\n",
    "            loss = criterion(pred_depth=depth_map, \n",
    "                             pred_poses=pose, \n",
    "                             tgt_image=sample['image_t1']['processed_image'], \n",
    "                             src_image_stack=sample['image_t']['processed_image'],\n",
    "                             intrinsics=intrinsics_matrix)\n",
    "            loss.backward()\n",
    "            optimizer.step()\n",
    "            \n",
    "            train_loss += loss.item()\n",
    "            \n",
    "            if i % log_interval == 0:\n",
    "                progress_bar.set_postfix(loss=train_loss/(i+1))\n",
    "                avg_loss = train_loss / (i + 1)\n",
    "                progress_bar.set_postfix(loss=avg_loss)\n",
    "                wandb.log({\"epoch\": epoch + 1, \"batch_loss\": avg_loss})\n",
    "                \n",
    "        # Validation loop\n",
    "        bigmodel.eval()\n",
    "        val_loss = 0.0\n",
    "        with torch.no_grad():\n",
    "            for sample in val_loader:\n",
    "                pose, depth_map = bigmodel(sample)\n",
    "                loss = criterion(pose, depth_map)\n",
    "                val_loss += loss.item()\n",
    "        \n",
    "        val_loss /= len(val_loader)\n",
    "        wandb.log({\"epoch\": epoch + 1, \"val_loss\": val_loss})\n",
    "        \n",
    "        # Early Stopping Check\n",
    "        if val_loss < best_val_loss:\n",
    "            best_val_loss = val_loss\n",
    "            patience_counter = 0  # Reset patience counter\n",
    "            \n",
    "            # Save the best model\n",
    "            torch.save(bigmodel.state_dict(), save_path)\n",
    "            print(f\"Model saved at {save_path}\")\n",
    "            wandb.log({\"best_val_loss\": best_val_loss, \"model_saved\": True, \"save_path\": save_path})\n",
    "        else:\n",
    "            patience_counter += 1\n",
    "            print(f\"EarlyStopping: No improvement for {patience_counter} epoch(s).\")\n",
    "\n",
    "        if patience_counter >= patience:\n",
    "            print(\"Early stopping triggered!\")\n",
    "            break\n",
    "        \n",
    "        \n",
    "            "
   ]
  }
 ],
 "metadata": {
  "kernelspec": {
   "display_name": "Python 3.9.6 64-bit",
   "language": "python",
   "name": "python3"
  },
  "language_info": {
   "codemirror_mode": {
    "name": "ipython",
    "version": 3
   },
   "file_extension": ".py",
   "mimetype": "text/x-python",
   "name": "python",
   "nbconvert_exporter": "python",
   "pygments_lexer": "ipython3",
   "version": "3.9.6"
  },
  "orig_nbformat": 4,
  "vscode": {
   "interpreter": {
    "hash": "31f2aee4e71d21fbe5cf8b01ff0e069b9275f58929596ceb00d14d90e3e16cd6"
   }
  }
 },
 "nbformat": 4,
 "nbformat_minor": 2
}
