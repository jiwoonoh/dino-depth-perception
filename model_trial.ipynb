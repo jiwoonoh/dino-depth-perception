{
 "cells": [
  {
   "cell_type": "code",
   "execution_count": 11,
   "metadata": {},
   "outputs": [],
   "source": [
    "from dataset import DictDataset\n",
    "from model import *"
   ]
  },
  {
   "cell_type": "code",
   "execution_count": 12,
   "metadata": {},
   "outputs": [
    {
     "name": "stdout",
     "output_type": "stream",
     "text": [
      "torch.Size([2, 6])\n",
      "tensor([[-0.0509,  0.0439,  0.0631, -0.0150,  0.0438,  0.0230],\n",
      "        [-0.0508,  0.0439,  0.0631, -0.0151,  0.0438,  0.0230]],\n",
      "       grad_fn=<MeanBackward1>)\n"
     ]
    }
   ],
   "source": [
    "dataset = DictDataset('./data')\n",
    "\n",
    "from torch.utils.data import DataLoader\n",
    "\n",
    "dataloader = DataLoader(dataset, batch_size=2, shuffle=True)\n",
    "sample = dataloader.__iter__().__next__()\n",
    "bigmodel = BigModel()\n",
    "pose_final, depth_map = bigmodel(sample)"
   ]
  },
  {
   "cell_type": "code",
   "execution_count": 13,
   "metadata": {},
   "outputs": [],
   "source": [
    "class BigModel(nn.Module):\n",
    "    def __init__(self):\n",
    "        super().__init__()\n",
    "        \n",
    "        self.decoder = DepthDecoder()\n",
    "        self.posenet = PoseNet(6)\n",
    "        \n",
    "    def forward(self, sample):\n",
    "        pose_final = self.posenet(sample['image_t']['processed_image'], \n",
    "                                  sample['image_t1']['processed_image'])\n",
    "        depth_map = self.decoder(sample['image_t']['feature_embedding'])\n",
    "        return pose_final, depth_map"
   ]
  }
 ],
 "metadata": {
  "kernelspec": {
   "display_name": "Python 3.9.6 64-bit",
   "language": "python",
   "name": "python3"
  },
  "language_info": {
   "codemirror_mode": {
    "name": "ipython",
    "version": 3
   },
   "file_extension": ".py",
   "mimetype": "text/x-python",
   "name": "python",
   "nbconvert_exporter": "python",
   "pygments_lexer": "ipython3",
   "version": "3.9.6"
  },
  "orig_nbformat": 4,
  "vscode": {
   "interpreter": {
    "hash": "31f2aee4e71d21fbe5cf8b01ff0e069b9275f58929596ceb00d14d90e3e16cd6"
   }
  }
 },
 "nbformat": 4,
 "nbformat_minor": 2
}
